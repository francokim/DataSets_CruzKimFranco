{
 "cells": [
  {
   "cell_type": "code",
   "execution_count": 6,
   "metadata": {},
   "outputs": [],
   "source": [
    "import requests\n",
    "from bs4 import BeautifulSoup\n",
    "import pandas as pd\n",
    "\n",
    "url = 'https://store.steampowered.com/app/400/Portal/'\n",
    "\n",
    "params = {\n",
    "    'key': 'franco.cruz.kim',\n",
    "    'appid': '400'\n",
    "}\n",
    "\n",
    "response = requests.get(url, params=params)\n",
    "\n",
    "soup = BeautifulSoup(response.content, 'html.parser')\n",
    "\n",
    "# Extraer el título del juego\n",
    "title = soup.find('div', {'class': 'apphub_AppName'}).get_text()\n",
    "\n",
    "# Extraer la descripción del juego\n",
    "description = soup.find('div', {'class': 'game_description_snippet'}).get_text().strip()\n",
    "\n",
    "# Crear un DataFrame con los datos extraídos\n",
    "ventas_df = pd.DataFrame({'Título': [title], 'Descripción': [description]})\n",
    "\n",
    "ventas_df.to_csv('ventas.csv', index=False)\n"
   ]
  },
  {
   "cell_type": "code",
   "execution_count": 8,
   "metadata": {},
   "outputs": [
    {
     "name": "stdout",
     "output_type": "stream",
     "text": [
      "   Título                                        Descripción\n",
      "0  Portal  Portal™ is a new single player game from Valve...\n"
     ]
    }
   ],
   "source": [
    "print(ventas_df)"
   ]
  },
  {
   "cell_type": "code",
   "execution_count": 23,
   "metadata": {},
   "outputs": [
    {
     "name": "stdout",
     "output_type": "stream",
     "text": [
      "                               Título Ventas\n",
      "0                     Resident Evil 4       \n",
      "1                       Apex Legends™       \n",
      "2                  Sons Of The Forest       \n",
      "3                     Hogwarts Legacy       \n",
      "4   Call of Duty®: Modern Warfare® II       \n",
      "5              The Last of Us™ Part I       \n",
      "6                            Lost Ark       \n",
      "7                  EA SPORTS™ FIFA 23   -70%\n",
      "8                              DREDGE       \n",
      "9                          ELDEN RING       \n",
      "10                        The Sims™ 4       \n",
      "11                    Forza Horizon 5   -40%\n",
      "12        Smalland: Survive the Wilds   -10%\n",
      "13           Total War: WARHAMMER III       \n",
      "14              Yu-Gi-Oh! Master Duel       \n",
      "15        Sea of Thieves 2023 Edition       \n",
      "16                       Ready or Not       \n",
      "17                        Pizza Tower       \n",
      "18                           NBA 2K23   -75%\n",
      "19                       Demonologist   -10%\n",
      "20                    Baldur's Gate 3       \n",
      "21                          Sun Haven       \n",
      "22                          Terra Nil       \n",
      "23                               Sifu   -10%\n",
      "24                       Phasmophobia       \n",
      "25                 Deep Rock Galactic       \n",
      "26                           WWE 2K23       \n",
      "27                         Fallout 76       \n",
      "28      The Great War: Western Front™       \n"
     ]
    }
   ],
   "source": [
    "import requests\n",
    "from bs4 import BeautifulSoup\n",
    "import pandas as pd\n",
    "from datetime import datetime, timedelta\n",
    "\n",
    "# Función para determinar si el juego se lanzó en los últimos 3 años\n",
    "def is_recent_release(release_date):\n",
    "    date_format = '%b %d, %Y' # Formato de fecha utilizado por Steam\n",
    "    release_datetime = datetime.strptime(release_date, date_format)\n",
    "    today = datetime.today()\n",
    "    return (today - release_datetime) < timedelta(days=3*365)\n",
    "\n",
    "url = 'https://store.steampowered.com/search/?sort_by=_ASC&category1=998'\n",
    "\n",
    "response = requests.get(url)\n",
    "\n",
    "soup = BeautifulSoup(response.content, 'html.parser')\n",
    "\n",
    "games = soup.find_all('div', {'class': 'responsive_search_name_combined'})\n",
    "\n",
    "games_data = []\n",
    "\n",
    "for game in games:\n",
    "    title = game.find('span', {'class': 'title'}).get_text()\n",
    "    release_date = game.find('div', {'class': 'col search_released responsive_secondrow'}).get_text().strip()\n",
    "    if is_recent_release(release_date):\n",
    "        sales_tag = game.find('div', {'class': 'col search_discount responsive_secondrow'})\n",
    "        if sales_tag is None:\n",
    "            sales = None\n",
    "        else:\n",
    "            sales = sales_tag.get_text().strip()\n",
    "        games_data.append({'Título': title, 'Ventas': sales})\n",
    "\n",
    "ventas_df = pd.DataFrame(games_data)\n",
    "\n",
    "ventas_df.to_csv('ventas.csv', index=False)\n",
    "\n",
    "print(ventas_df)\n"
   ]
  }
 ],
 "metadata": {
  "kernelspec": {
   "display_name": "Python 3",
   "language": "python",
   "name": "python3"
  },
  "language_info": {
   "codemirror_mode": {
    "name": "ipython",
    "version": 3
   },
   "file_extension": ".py",
   "mimetype": "text/x-python",
   "name": "python",
   "nbconvert_exporter": "python",
   "pygments_lexer": "ipython3",
   "version": "3.10.4"
  },
  "orig_nbformat": 4
 },
 "nbformat": 4,
 "nbformat_minor": 2
}
