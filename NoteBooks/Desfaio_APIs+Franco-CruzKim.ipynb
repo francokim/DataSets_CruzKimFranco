{
 "cells": [
  {
   "cell_type": "code",
   "execution_count": 54,
   "metadata": {},
   "outputs": [
    {
     "name": "stdout",
     "output_type": "stream",
     "text": [
      "Collecting openpyxl\n",
      "  Downloading openpyxl-3.1.2-py2.py3-none-any.whl (249 kB)\n",
      "\u001b[2K     \u001b[90m━━━━━━━━━━━━━━━━━━━━━━━━━━━━━━━━━━━━━━━\u001b[0m \u001b[32m250.0/250.0 kB\u001b[0m \u001b[31m5.8 MB/s\u001b[0m eta \u001b[36m0:00:00\u001b[0m00:01\u001b[0m\n",
      "\u001b[?25hCollecting et-xmlfile\n",
      "  Downloading et_xmlfile-1.1.0-py3-none-any.whl (4.7 kB)\n",
      "Installing collected packages: et-xmlfile, openpyxl\n",
      "Successfully installed et-xmlfile-1.1.0 openpyxl-3.1.2\n",
      "Note: you may need to restart the kernel to use updated packages.\n"
     ]
    }
   ],
   "source": [
    "pip install openpyxl\n"
   ]
  },
  {
   "cell_type": "code",
   "execution_count": 57,
   "metadata": {},
   "outputs": [
    {
     "name": "stdout",
     "output_type": "stream",
     "text": [
      "                          country  year           gdp  exchange_rate  \\\n",
      "0     Africa Eastern and Southern  2020  9.341791e+11          18.04   \n",
      "1     Africa Eastern and Southern  2019  1.009052e+12          18.04   \n",
      "2     Africa Eastern and Southern  2018  1.016697e+12          18.04   \n",
      "3     Africa Eastern and Southern  2017  1.030482e+12          18.04   \n",
      "4     Africa Eastern and Southern  2016  8.898593e+11          18.04   \n",
      "...                           ...   ...           ...            ...   \n",
      "2825                     Zimbabwe  2014  1.949552e+10          18.04   \n",
      "2826                     Zimbabwe  2013  1.909102e+10          18.04   \n",
      "2827                     Zimbabwe  2012  1.711485e+10          18.04   \n",
      "2828                     Zimbabwe  2011  1.410192e+10          18.04   \n",
      "2829                     Zimbabwe  2010  1.204166e+10          18.04   \n",
      "\n",
      "      gdp_per_capita  population  \n",
      "0        1363.540741   685112705  \n",
      "1        1512.270553   667242712  \n",
      "2        1564.734340   649756874  \n",
      "3        1628.586788   632746296  \n",
      "4        1443.692371   616377331  \n",
      "...              ...         ...  \n",
      "2825     1407.034293    13855753  \n",
      "2826     1408.367810    13555422  \n",
      "2827     1290.193956    13265331  \n",
      "2828     1082.615774    13025785  \n",
      "2829      937.840338    12839771  \n",
      "\n",
      "[2830 rows x 6 columns]\n"
     ]
    }
   ],
   "source": [
    "import pandas as pd\n",
    "import requests\n",
    "\n",
    "# Definir la URL de la API de Banco Mundial y la clave de acceso\n",
    "world_bank_api_url = \"http://api.worldbank.org/v2/country/all/indicator/NY.GDP.MKTP.CD\"\n",
    "\n",
    "# Definir los parámetros de la solicitud\n",
    "params = {\"format\": \"json\", \"per_page\": 20000, \"date\": \"2010:2020\"}\n",
    "\n",
    "# Realizar la solicitud a la API\n",
    "response = requests.get(world_bank_api_url, params=params).json()[1]\n",
    "\n",
    "# Crear una lista de diccionarios con los datos de los países\n",
    "data = []\n",
    "for d in response:\n",
    "    if d[\"value\"] is not None:\n",
    "        data.append({\"country\": d[\"country\"][\"value\"], \"year\": d[\"date\"], \"gdp\": d[\"value\"]})\n",
    "\n",
    "# Crear un DataFrame con los datos de los países\n",
    "df = pd.DataFrame(data)\n",
    "\n",
    "# Obtener los datos del tipo de cambio respecto al dólar americano\n",
    "exchange_rate_url = \"https://api.exchangerate-api.com/v4/latest/USD\"\n",
    "exchange_rate_data = requests.get(exchange_rate_url).json()\n",
    "df[\"exchange_rate\"] = exchange_rate_data[\"rates\"][\"MXN\"]  # Ejemplo usando el peso mexicano\n",
    "\n",
    "# Obtener los datos del PIB per cápita\n",
    "gdp_per_capita_url = \"http://api.worldbank.org/v2/country/all/indicator/NY.GDP.PCAP.CD\"\n",
    "gdp_per_capita_params = {\"format\": \"json\", \"per_page\": 20000, \"date\": \"2010:2020\"}\n",
    "gdp_per_capita_response = requests.get(gdp_per_capita_url, params=gdp_per_capita_params).json()[1]\n",
    "\n",
    "# Crear una lista de diccionarios con los datos del PIB per cápita\n",
    "gdp_per_capita_data = []\n",
    "for d in gdp_per_capita_response:\n",
    "    if d[\"value\"] is not None:\n",
    "        gdp_per_capita_data.append({\"country\": d[\"country\"][\"value\"], \"year\": d[\"date\"], \"gdp_per_capita\": d[\"value\"]})\n",
    "\n",
    "# Crear un DataFrame con los datos del PIB per cápita\n",
    "gdp_per_capita_df = pd.DataFrame(gdp_per_capita_data)\n",
    "\n",
    "# Agregar los datos del PIB per cápita al DataFrame principal\n",
    "df = pd.merge(df, gdp_per_capita_df, on=[\"country\", \"year\"], how=\"left\")\n",
    "\n",
    "# Obtener los datos del número de habitantes\n",
    "population_url = \"http://api.worldbank.org/v2/country/all/indicator/SP.POP.TOTL\"\n",
    "population_params = {\"format\": \"json\", \"per_page\": 20000, \"date\": \"2010:2020\"}\n",
    "population_response = requests.get(population_url, params=population_params).json()[1]\n",
    "\n",
    "# Crear una lista de diccionarios con los datos del número de habitantes\n",
    "population_data = []\n",
    "for d in population_response:\n",
    "    if d[\"value\"] is not None:\n",
    "        population_data.append({\"country\": d[\"country\"][\"value\"], \"year\": d[\"date\"], \"population\": d[\"value\"]})\n",
    "\n",
    "# Crear un DataFrame con los datos del número de habitantes\n",
    "population_df = pd.DataFrame(population_data)\n",
    "\n",
    "# Agregar los datos del número de habitantes al DataFrame principal\n",
    "df = pd.merge(df, population_df, on=[\"country\", \"year\"], how=\"left\")\n",
    "\n",
    "# Mostrar todos los registros del DataFrame\n",
    "\n",
    "print (df)\n"
   ]
  },
  {
   "cell_type": "code",
   "execution_count": 58,
   "metadata": {},
   "outputs": [],
   "source": [
    "# Guardar el DataFrame como un archivo de Excel\n",
    "df.to_excel(\"datos_gdp.xlsx\", index=False)"
   ]
  },
  {
   "attachments": {},
   "cell_type": "markdown",
   "metadata": {},
   "source": [
    "Una vez que descargué los datos en Excel, me di cuanta que tengo información de muchos paises y regiones. para hacer el análisis de este database, procedí a quedarme solamente con variables importantes de latino america y américa del norte para hacer una comparación.\n",
    "\n",
    "NOTA: la base de datos utilizada no cuenta con argumentos vacíos o erroneos"
   ]
  },
  {
   "cell_type": "code",
   "execution_count": 59,
   "metadata": {},
   "outputs": [],
   "source": [
    "# Seleccionar solo los países específicos\n",
    "paises = [\"Argentina\", \"Brazil\", \"Chile\",\"Mexico\",\"Colombia\",\"Canada\",\"United States\"]\n",
    "df = df[df[\"country\"].isin(paises)]"
   ]
  },
  {
   "cell_type": "code",
   "execution_count": 60,
   "metadata": {},
   "outputs": [],
   "source": [
    "# Guardar el DataFrame filtrado como un archivo de Excel\n",
    "df.to_excel(\"datos_gdp_paises.xlsx\", index=False)"
   ]
  }
 ],
 "metadata": {
  "kernelspec": {
   "display_name": "Python 3",
   "language": "python",
   "name": "python3"
  },
  "language_info": {
   "codemirror_mode": {
    "name": "ipython",
    "version": 3
   },
   "file_extension": ".py",
   "mimetype": "text/x-python",
   "name": "python",
   "nbconvert_exporter": "python",
   "pygments_lexer": "ipython3",
   "version": "3.10.4"
  },
  "orig_nbformat": 4
 },
 "nbformat": 4,
 "nbformat_minor": 2
}
